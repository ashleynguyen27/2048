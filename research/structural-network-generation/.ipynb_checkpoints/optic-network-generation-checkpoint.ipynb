{
 "cells": [
  {
   "cell_type": "code",
   "execution_count": 1,
   "metadata": {},
   "outputs": [
    {
     "name": "stdout",
     "output_type": "stream",
     "text": [
      "/Users/amitvakula/Documents/code/ucsf/structural-network-generation\n"
     ]
    }
   ],
   "source": [
    "import os\n",
    "import sys\n",
    "\n",
    "print(os.path.abspath(os.curdir))\n",
    "\n",
    "import traceback\n",
    "from dipy.tracking import utils\n",
    "import nibabel as nib\n",
    "import numpy as np\n",
    "from nibabel import trackvis\n",
    "from responsestuff.responsestuff.autoresponse import fskeys\n",
    "import scipy\n",
    "import json"
   ]
  },
  {
   "cell_type": "code",
   "execution_count": 2,
   "metadata": {
    "collapsed": true
   },
   "outputs": [],
   "source": [
    "ctx_array = fskeys['ctx'] # labels that belong to the cerebral cortex\n",
    "deep_grey_array = fskeys['deep gray'] # labels that belong to grey matter"
   ]
  },
  {
   "cell_type": "code",
   "execution_count": 3,
   "metadata": {
    "collapsed": true
   },
   "outputs": [],
   "source": [
    "config_path = open(\"config.json\")\n",
    "config_dict = dict(json.load(config_path))\n",
    "\n",
    "subjid = config_dict[\"subjid\"]\n",
    "base_dir = config_dict[\"base_dir\"]\n",
    "label_dir = config_dict[\"label_dir\"]\n",
    "streamline_file = \"{}/{}/tracking/prob-localtrack-clean.trk\".format(base_dir, subjid)\n",
    "label_file = \"{}/{}/mtdModelFit/aseg_to_fa_aff.nii.gz\".format(label_dir, subjid)\n",
    "\n",
    "save_dir = config_dict[\"save_dir\"]\n",
    "save_file = \"{}/{}/network/metric_{{}}_mat.csv\".format(save_dir, subjid)"
   ]
  },
  {
   "cell_type": "code",
   "execution_count": 4,
   "metadata": {
    "collapsed": true
   },
   "outputs": [],
   "source": [
    "trk, hdr = trackvis.read(streamline_file)"
   ]
  },
  {
   "cell_type": "code",
   "execution_count": 5,
   "metadata": {
    "collapsed": true
   },
   "outputs": [],
   "source": [
    "streamlines = [i[0] for i in trk] # \"strips\" streamlines (only extracts points)\n",
    "trk_save = [(i, None, None) for i in streamlines] # unstripped version to save if needed\n",
    "assert str(hdr['voxel_order']).lower() == \"las\" # NOT SURE?\n",
    "vs = hdr['voxel_size'] # NOT SURE?\n",
    "aff = np.diag([vs[0], vs[1], vs[2], 1]) # NOT SURE?\n",
    "aff[:, 3] = np.dot(aff, [.5, .5, .5, 1]) # NOT SURE?"
   ]
  },
  {
   "cell_type": "code",
   "execution_count": 6,
   "metadata": {
    "collapsed": true
   },
   "outputs": [],
   "source": [
    "md_file = \"{}/{}/mtdModelFit/data_{}.nii.gz\".format(label_dir, subjid, \"md\")\n",
    "fa_file = \"{}/{}/mtdModelFit/data_{}.nii.gz\".format(label_dir, subjid, \"fa\")\n",
    "vol_md = nib.load(md_file).get_data()\n",
    "vol_fa = nib.load(fa_file).get_data()"
   ]
  },
  {
   "cell_type": "code",
   "execution_count": 7,
   "metadata": {
    "collapsed": true
   },
   "outputs": [],
   "source": [
    "aseg = nib.load(label_file).get_data()\n",
    "gray_region = (np.in1d(aseg, fskeys['ctx']) |\n",
    "               np.in1d(aseg, fskeys['deep gray']))\n",
    "gray_region.shape = aseg.shape # \"unlinearize\": convert linear to 3D shape"
   ]
  },
  {
   "cell_type": "code",
   "execution_count": 8,
   "metadata": {
    "scrolled": false
   },
   "outputs": [
    {
     "ename": "TypeError",
     "evalue": "range expected at least 1 arguments, got 0",
     "output_type": "error",
     "traceback": [
      "\u001b[0;31m---------------------------------------------------------------------------\u001b[0m",
      "\u001b[0;31mTypeError\u001b[0m                                 Traceback (most recent call last)",
      "\u001b[0;32m<ipython-input-8-aa0b27539ab3>\u001b[0m in \u001b[0;36m<module>\u001b[0;34m()\u001b[0m\n\u001b[1;32m     13\u001b[0m \u001b[0;34m\u001b[0m\u001b[0m\n\u001b[1;32m     14\u001b[0m \u001b[0mnon_lh_ctx_regions\u001b[0m \u001b[0;34m=\u001b[0m \u001b[0;34m[\u001b[0m\u001b[0;34m]\u001b[0m\u001b[0;34m\u001b[0m\u001b[0m\n\u001b[0;32m---> 15\u001b[0;31m \u001b[0mlh_ctx_regions\u001b[0m \u001b[0;34m=\u001b[0m \u001b[0mlist\u001b[0m\u001b[0;34m(\u001b[0m\u001b[0mi\u001b[0m \u001b[0;32mfor\u001b[0m \u001b[0mi\u001b[0m \u001b[0;32min\u001b[0m \u001b[0mrange\u001b[0m\u001b[0;34m(\u001b[0m\u001b[0;34m)\u001b[0m\u001b[0;34m)\u001b[0m\u001b[0;34m\u001b[0m\u001b[0m\n\u001b[0m\u001b[1;32m     16\u001b[0m \u001b[0;34m\u001b[0m\u001b[0m\n\u001b[1;32m     17\u001b[0m \u001b[0mnon_rh_ctx_regions\u001b[0m \u001b[0;34m=\u001b[0m \u001b[0;34m[\u001b[0m\u001b[0;34m]\u001b[0m\u001b[0;34m\u001b[0m\u001b[0m\n",
      "\u001b[0;31mTypeError\u001b[0m: range expected at least 1 arguments, got 0"
     ]
    }
   ],
   "source": [
    "aseg_grey = aseg * gray_region # mask all non-grey matter regions in this mapping\n",
    "\n",
    "thalamus_mask = np.logical_or(aseg_grey == 10,aseg_grey == 49) \n",
    "visual_cortex_mask = np.logical_or(aseg_grey == 2011,aseg_grey == 1011)\n",
    "optic_mask = np.logical_or(thalamus_mask, visual_cortex_mask)\n",
    "aseg_optic = aseg_grey * optic_mask\n",
    "labels, lt = utils.reduce_labels(aseg_optic)\n",
    "# labels = the new 3D image with the reduced labels starting from 0,1,2,....\n",
    "# lt -> list with mapping to old labels (i.e. new label 1 has old label lt[1])\n",
    "\n",
    "# please see link below for regional lookup table\n",
    "# https://surfer.nmr.mgh.harvard.edu/fswiki/FsTutorial/AnatomicalROI/FreeSurferColorLUT\n",
    "\n",
    "non_lh_ctx_regions = []\n",
    "lh_ctx_regions = []\n",
    "\n",
    "non_rh_ctx_regions = []\n",
    "rh_ctx_regions = []\n",
    "atlas_regions = []\n",
    "\n",
    "def get_reduced_map(desired_regions):\n",
    "    pass\n"
   ]
  },
  {
   "cell_type": "code",
   "execution_count": 19,
   "metadata": {
    "collapsed": true
   },
   "outputs": [],
   "source": [
    "mat, mapping = utils.connectivity_matrix(streamlines, labels,\n",
    "                                             affine=aff,\n",
    "                                             return_mapping=True,\n",
    "                                             mapping_as_streamlines=True)\n",
    "left_optic_rad = mapping[1,3] + mapping[1,4]\n",
    "right_optic_rad = mapping[2,3] + mapping[2,4]\n",
    "optic_rads = left_optic_rad + right_optic_rad\n",
    "optic_rad_unstripped = [(i, None, None) for i in optic_rads]"
   ]
  },
  {
   "cell_type": "code",
   "execution_count": 20,
   "metadata": {
    "collapsed": true
   },
   "outputs": [],
   "source": [
    "streamline_save_dir = \"{}/{}/network/connectiveatlas_{}.trk\".format(save_dir, subjid,subjid)\n",
    "trackvis.write(open(streamline_save_dir,'wb'), optic_rad_unstripped, hdr)"
   ]
  },
  {
   "cell_type": "code",
   "execution_count": null,
   "metadata": {
    "collapsed": true
   },
   "outputs": [],
   "source": []
  }
 ],
 "metadata": {
  "kernelspec": {
   "display_name": "Python [conda env:research2]",
   "language": "python",
   "name": "conda-env-research2-py"
  },
  "language_info": {
   "codemirror_mode": {
    "name": "ipython",
    "version": 2
   },
   "file_extension": ".py",
   "mimetype": "text/x-python",
   "name": "python",
   "nbconvert_exporter": "python",
   "pygments_lexer": "ipython2",
   "version": "2.7.12"
  }
 },
 "nbformat": 4,
 "nbformat_minor": 1
}
