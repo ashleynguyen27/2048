{
 "cells": [
  {
   "cell_type": "code",
   "execution_count": 1,
   "metadata": {},
   "outputs": [
    {
     "name": "stdout",
     "output_type": "stream",
     "text": [
      "/Users/ashley.nguyen27/structural-network-generation\n",
      "You do not have Matplotlib installed. Some visualization functions might not work for you.\n"
     ]
    }
   ],
   "source": [
    "import os\n",
    "import sys\n",
    "\n",
    "print(os.path.abspath(os.curdir))\n",
    "\n",
    "import traceback\n",
    "from dipy.tracking import utils\n",
    "import nibabel as nib\n",
    "import numpy as np\n",
    "from nibabel import trackvis\n",
    "from responsestuff.responsestuff.autoresponse import fskeys\n",
    "import scipy\n",
    "import json"
   ]
  },
  {
   "cell_type": "code",
   "execution_count": 2,
   "metadata": {},
   "outputs": [],
   "source": [
    "ctx_array = fskeys['ctx'] # labels that belong to the cerebral cortex\n",
    "deep_grey_array = fskeys['deep gray'] # labels that belong to grey matter"
   ]
  },
  {
   "cell_type": "code",
   "execution_count": 18,
   "metadata": {},
   "outputs": [],
   "source": [
    "config_path = open(\"config.json\")\n",
    "config_dict = dict(json.load(config_path))\n",
    "\n",
    "subjid = config_dict[\"subjid\"]\n",
    "track_dir = config_dict[\"track_dir\"]\n",
    "label_dir = config_dict[\"label_dir\"]\n",
    "streamline_file = \"{}/{}/prob-localtrack-clean.trk\".format(track_dir, subjid)\n",
    "label_file = \"{}/{}/aseg_to_fa_aff.nii.gz\".format(label_dir, subjid)\n",
    "\n",
    "save_dir = config_dict[\"save_dir\"]\n",
    "save_file = \"{}/{}/network/metric_{{}}_mat.csv\".format(save_dir, subjid)"
   ]
  },
  {
   "cell_type": "code",
   "execution_count": 19,
   "metadata": {},
   "outputs": [],
   "source": [
    "trk, hdr = trackvis.read(streamline_file)"
   ]
  },
  {
   "cell_type": "code",
   "execution_count": null,
   "metadata": {},
   "outputs": [],
   "source": [
    "streamlines = [i[0] for i in trk] # \"strips\" streamlines (only extracts points)\n",
    "trk_save = [(i, None, None) for i in streamlines] # unstripped version to save if needed\n",
    "assert str(hdr['voxel_order']).lower() == \"las\" # NOT SURE?\n",
    "vs = hdr['voxel_size'] # NOT SURE?\n",
    "aff = np.diag([vs[0], vs[1], vs[2], 1]) # NOT SURE?\n",
    "aff[:, 3] = np.dot(aff, [.5, .5, .5, 1]) # NOT SURE?"
   ]
  },
  {
   "cell_type": "code",
   "execution_count": 21,
   "metadata": {},
   "outputs": [
    {
     "ename": "FileNotFoundError",
     "evalue": "No such file or no access: '/projects/ps-henrylab/hcp/hcp_structural/mtdModelFit/100206/data_md.nii.gz'",
     "output_type": "error",
     "traceback": [
      "\u001b[0;31m---------------------------------------------------------------------------\u001b[0m",
      "\u001b[0;31mFileNotFoundError\u001b[0m                         Traceback (most recent call last)",
      "\u001b[0;32m<ipython-input-21-b453a90d99e0>\u001b[0m in \u001b[0;36m<module>\u001b[0;34m()\u001b[0m\n\u001b[1;32m      1\u001b[0m \u001b[0mmd_file\u001b[0m \u001b[0;34m=\u001b[0m \u001b[0;34m\"{}/{}/data_{}.nii.gz\"\u001b[0m\u001b[0;34m.\u001b[0m\u001b[0mformat\u001b[0m\u001b[0;34m(\u001b[0m\u001b[0mlabel_dir\u001b[0m\u001b[0;34m,\u001b[0m \u001b[0msubjid\u001b[0m\u001b[0;34m,\u001b[0m \u001b[0;34m\"md\"\u001b[0m\u001b[0;34m)\u001b[0m\u001b[0;34m\u001b[0m\u001b[0m\n\u001b[1;32m      2\u001b[0m \u001b[0mfa_file\u001b[0m \u001b[0;34m=\u001b[0m \u001b[0;34m\"{}/{}/data_{}.nii.gz\"\u001b[0m\u001b[0;34m.\u001b[0m\u001b[0mformat\u001b[0m\u001b[0;34m(\u001b[0m\u001b[0mlabel_dir\u001b[0m\u001b[0;34m,\u001b[0m \u001b[0msubjid\u001b[0m\u001b[0;34m,\u001b[0m \u001b[0;34m\"fa\"\u001b[0m\u001b[0;34m)\u001b[0m\u001b[0;34m\u001b[0m\u001b[0m\n\u001b[0;32m----> 3\u001b[0;31m \u001b[0mvol_md\u001b[0m \u001b[0;34m=\u001b[0m \u001b[0mnib\u001b[0m\u001b[0;34m.\u001b[0m\u001b[0mload\u001b[0m\u001b[0;34m(\u001b[0m\u001b[0mmd_file\u001b[0m\u001b[0;34m)\u001b[0m\u001b[0;34m.\u001b[0m\u001b[0mget_data\u001b[0m\u001b[0;34m(\u001b[0m\u001b[0;34m)\u001b[0m\u001b[0;34m\u001b[0m\u001b[0m\n\u001b[0m\u001b[1;32m      4\u001b[0m \u001b[0mvol_fa\u001b[0m \u001b[0;34m=\u001b[0m \u001b[0mnib\u001b[0m\u001b[0;34m.\u001b[0m\u001b[0mload\u001b[0m\u001b[0;34m(\u001b[0m\u001b[0mfa_file\u001b[0m\u001b[0;34m)\u001b[0m\u001b[0;34m.\u001b[0m\u001b[0mget_data\u001b[0m\u001b[0;34m(\u001b[0m\u001b[0;34m)\u001b[0m\u001b[0;34m\u001b[0m\u001b[0m\n",
      "\u001b[0;32m/Users/ashley.nguyen27/anaconda3/envs/research2/lib/python2.7/site-packages/nibabel/loadsave.pyc\u001b[0m in \u001b[0;36mload\u001b[0;34m(filename, **kwargs)\u001b[0m\n\u001b[1;32m     40\u001b[0m         \u001b[0mstat_result\u001b[0m \u001b[0;34m=\u001b[0m \u001b[0mos\u001b[0m\u001b[0;34m.\u001b[0m\u001b[0mstat\u001b[0m\u001b[0;34m(\u001b[0m\u001b[0mfilename\u001b[0m\u001b[0;34m)\u001b[0m\u001b[0;34m\u001b[0m\u001b[0m\n\u001b[1;32m     41\u001b[0m     \u001b[0;32mexcept\u001b[0m \u001b[0mOSError\u001b[0m\u001b[0;34m:\u001b[0m\u001b[0;34m\u001b[0m\u001b[0m\n\u001b[0;32m---> 42\u001b[0;31m         \u001b[0;32mraise\u001b[0m \u001b[0mFileNotFoundError\u001b[0m\u001b[0;34m(\u001b[0m\u001b[0;34m\"No such file or no access: '%s'\"\u001b[0m \u001b[0;34m%\u001b[0m \u001b[0mfilename\u001b[0m\u001b[0;34m)\u001b[0m\u001b[0;34m\u001b[0m\u001b[0m\n\u001b[0m\u001b[1;32m     43\u001b[0m     \u001b[0;32mif\u001b[0m \u001b[0mstat_result\u001b[0m\u001b[0;34m.\u001b[0m\u001b[0mst_size\u001b[0m \u001b[0;34m<=\u001b[0m \u001b[0;36m0\u001b[0m\u001b[0;34m:\u001b[0m\u001b[0;34m\u001b[0m\u001b[0m\n\u001b[1;32m     44\u001b[0m         \u001b[0;32mraise\u001b[0m \u001b[0mImageFileError\u001b[0m\u001b[0;34m(\u001b[0m\u001b[0;34m\"Empty file: '%s'\"\u001b[0m \u001b[0;34m%\u001b[0m \u001b[0mfilename\u001b[0m\u001b[0;34m)\u001b[0m\u001b[0;34m\u001b[0m\u001b[0m\n",
      "\u001b[0;31mFileNotFoundError\u001b[0m: No such file or no access: '/projects/ps-henrylab/hcp/hcp_structural/mtdModelFit/100206/data_md.nii.gz'"
     ]
    }
   ],
   "source": [
    "md_file = \"{}/{}/data_{}.nii.gz\".format(label_dir, subjid, \"md\")\n",
    "fa_file = \"{}/{}/data_{}.nii.gz\".format(label_dir, subjid, \"fa\")\n",
    "vol_md = nib.load(md_file).get_data()\n",
    "vol_fa = nib.load(fa_file).get_data()"
   ]
  },
  {
   "cell_type": "code",
   "execution_count": 22,
   "metadata": {},
   "outputs": [],
   "source": [
    "aseg = nib.load(label_file).get_data()\n",
    "gray_region = (np.in1d(aseg, fskeys['ctx']) |\n",
    "               np.in1d(aseg, fskeys['deep gray']))\n",
    "gray_region.shape = aseg.shape # \"unlinearize\": convert linear to 3D shape"
   ]
  },
  {
   "cell_type": "code",
   "execution_count": 23,
   "metadata": {
    "scrolled": false
   },
   "outputs": [],
   "source": [
    "aseg_grey = aseg * gray_region # mask all non-grey matter regions in this mapping\n",
    "\n",
    "thalamus_mask = np.logical_or(aseg_grey == 10,aseg_grey == 49) \n",
    "visual_cortex_mask = np.logical_or(aseg_grey == 2011,aseg_grey == 1011)\n",
    "optic_mask = np.logical_or(thalamus_mask, visual_cortex_mask)\n",
    "aseg_optic = aseg_grey * optic_mask\n",
    "labels, lt = utils.reduce_labels(aseg_optic)\n",
    "# labels = the new 3D image with the reduced labels starting from 0,1,2,....\n",
    "# lt -> list with mapping to old labels (i.e. new label 1 has old label lt[1])\n",
    "\n",
    "# please see link below for regional lookup table\n",
    "# https://surfer.nmr.mgh.harvard.edu/fswiki/FsTutorial/AnatomicalROI/FreeSurferColorLUT\n",
    "\n",
    "non_lh_ctx_regions = []\n",
    "lh_ctx_regions = []\n",
    "\n",
    "non_rh_ctx_regions = []\n",
    "rh_ctx_regions = []\n",
    "atlas_regions = []\n",
    "\n",
    "def get_reduced_map(desired_regions):\n",
    "    pass\n"
   ]
  },
  {
   "cell_type": "code",
   "execution_count": null,
   "metadata": {},
   "outputs": [],
   "source": [
    "mat, mapping = utils.connectivity_matrix(streamlines, labels,\n",
    "                                             affine=aff,\n",
    "                                             return_mapping=True,\n",
    "                                             mapping_as_streamlines=True)\n",
    "left_optic_rad = mapping[1,3] + mapping[1,4]\n",
    "right_optic_rad = mapping[2,3] + mapping[2,4]\n",
    "optic_rads = left_optic_rad + right_optic_rad\n",
    "optic_rad_unstripped = [(i, None, None) for i in optic_rads]"
   ]
  },
  {
   "cell_type": "code",
   "execution_count": null,
   "metadata": {},
   "outputs": [],
   "source": [
    "streamline_save_dir = \"{}/{}/network/connectiveatlas_{}.trk\".format(save_dir, subjid,subjid)\n",
    "trackvis.write(open(streamline_save_dir,'wb'), optic_rad_unstripped, hdr)"
   ]
  }
 ],
 "metadata": {
  "kernelspec": {
   "display_name": "Python 2",
   "language": "python",
   "name": "python2"
  }
 },
 "nbformat": 4,
 "nbformat_minor": 1
}
