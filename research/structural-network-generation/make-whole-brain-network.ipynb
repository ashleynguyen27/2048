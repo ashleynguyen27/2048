{
 "cells": [
  {
   "cell_type": "code",
   "execution_count": 1,
   "metadata": {},
   "outputs": [],
   "source": [
    "import os\n",
    "import sys\n",
    "import traceback\n",
    "from dipy.tracking import utils\n",
    "\n",
    "import nibabel as nib\n",
    "import numpy as np\n",
    "from nibabel import trackvis\n",
    "from responsestuff.responsestuff.autoresponse import fskeys\n",
    "import scipy\n",
    "import json\n",
    "import matplotlib.pyplot as plt \n",
    "from dipy.tracking.streamline import length"
   ]
  },
  {
   "cell_type": "code",
   "execution_count": 2,
   "metadata": {},
   "outputs": [],
   "source": [
    "subjid = 100206\n",
    "config_path = open(\"config.json\")\n",
    "config_dict = dict(json.load(config_path))\n",
    "track_dir = config_dict[\"track_dir\"] \n",
    "label_dir = config_dict[\"label_dir\"]\n",
    "streamline_file = \"{}/{}/prob-localtrack-clean.trk\".format(track_dir, subjid)\n",
    "label_file = \"{}/{}/aseg_to_fa_aff.nii.gz\".format(label_dir, subjid)\n",
    "\n",
    "save_dir = config_dict[\"save_dir\"]\n",
    "save_file = \"{}/{}/network/network_multiplicities.json\".format(save_dir, subjid)"
   ]
  },
  {
   "cell_type": "code",
   "execution_count": 3,
   "metadata": {},
   "outputs": [],
   "source": [
    "# extracting data from the files \n",
    "\n",
    "trk, hdr = trackvis.read(streamline_file)\n",
    "streamlines = [i[0] for i in trk] # takes the streamlines of each item of (trk)?\n",
    "trk_save = [(i, None, None) for i in streamlines] # array of streamline tuples (why is this necessary) \n",
    "assert str(hdr['voxel_order']).lower() == \"las\" # takes voxel_order, turns all letters to lower case and then compares it to (las)?\n",
    "vs = hdr['voxel_size'] # vs = some list of arrays (have no idea what each accronym means)\n",
    "aff = np.diag([vs[0], vs[1], vs[2], 1]) # construct a diagonal array (why?)\n",
    "aff[:, 3] = np.dot(aff, [.5, .5, .5, 1]) # dot product of the diagonal and the vector (transformation half the size? not sure of the notation)"
   ]
  },
  {
   "cell_type": "code",
   "execution_count": 4,
   "metadata": {},
   "outputs": [],
   "source": [
    "# gets all data related to the cortex\n",
    "\n",
    "ctx_array = fskeys['ctx'] # labels that belong to the cerebral cortex\n",
    "deep_grey_array = fskeys['deep gray'] # labels that belong to grey matter\n",
    "\n",
    "aseg = nib.load(label_file).get_data() # array of content\n",
    "gray_region = (np.in1d(aseg, fskeys['ctx']) | #compares the cortex file to the deep gray file?\n",
    "               np.in1d(aseg, fskeys['deep gray'])) # checks to see if elements in first array are in the second array [booleans]\n",
    "gray_region.shape = aseg.shape # \"unlinearize\": convert linear to 3D shape ? makes them the same shape (aka matrix dimension)\n",
    "aseg_grey = aseg * gray_region # mask all non-grey matter regions in this mapping "
   ]
  },
  {
   "cell_type": "code",
   "execution_count": 5,
   "metadata": {},
   "outputs": [],
   "source": [
    "# getting the labels and gray values \n",
    "\n",
    "labels, lt = utils.reduce_labels(aseg_grey) #Reduces an array to the integers from 0 to n with smallest possible aseg_gray\n",
    "                                            #(first) array of matrixes?????? \n",
    "                                            #(second) new array \n",
    "        \n",
    "mat, mapping = utils.connectivity_matrix(streamlines, labels,\n",
    "                                             affine=aff,\n",
    "                                             return_mapping=True,\n",
    "                                             mapping_as_streamlines=True) #Counts the streamlines that start and end at each label pair. [when retrieving nodes between 2 locations happens] ]\n",
    "                                                                            #(first) matrix with number of connections between each pair of region; counts between the 2 areas \n",
    "                                                                            #(second) mapping[i, j] returns all the streamlines that connect region i to region j; represents a streamline"
   ]
  },
  {
   "cell_type": "code",
   "execution_count": 6,
   "metadata": {},
   "outputs": [
    {
     "name": "stdout",
     "output_type": "stream",
     "text": [
      "[[ 96.052216 126.20764   70.19251 ]\n",
      " [ 96.041664 126.458336  70.625   ]\n",
      " [ 96.0869   126.73803   71.03698 ]\n",
      " [ 96.17952  127.122696  71.342674]\n",
      " [ 96.41764  127.47146   71.610374]\n",
      " [ 96.58373  127.925186  71.739006]\n",
      " [ 96.67635  128.30986   72.0447  ]\n",
      " [ 96.812035 128.64755   72.38755 ]\n",
      " [ 96.97812  129.10129   72.516174]]\n"
     ]
    }
   ],
   "source": [
    "# print(mat)\n",
    "print(mapping[(1, 2)][0])"
   ]
  },
  {
   "cell_type": "code",
   "execution_count": 7,
   "metadata": {},
   "outputs": [],
   "source": [
    "#\n",
    "\n",
    "stream_multiplicity_map = {}\n",
    "for val in mapping:\n",
    "    modified_key = lt[val[0]], lt[val[1]] # ??\n",
    "    # print(modified_key, len(mapping[val]))\n",
    "    stream_multiplicity_map[str(modified_key)] = len(mapping[val]) #sets the key \n",
    "\n",
    "save_directory = \"{}/{}/network\".format(save_dir, subjid)\n",
    "if not os.path.exists(save_directory): \n",
    "    os.makedirs(save_directory)  #Recursive directory creation function; makes all intermediate-level directories needed to contain the leaf directory.\n",
    "    \n",
    "f = open(save_file, 'w')\n",
    "json.dump(stream_multiplicity_map, f) \n",
    "f.close()"
   ]
  },
  {
   "cell_type": "code",
   "execution_count": 8,
   "metadata": {},
   "outputs": [
    {
     "data": {
      "image/png": "[encoded data removed]",
      "text/plain": [
       "<Figure size 432x288 with 1 Axes>"
      ]
     },
     "metadata": {
      "needs_background": "light"
     },
     "output_type": "display_data"
    }
   ],
   "source": [
    "# histogram of lengths \n",
    "\n",
    "# 1. take the length of all the streamlines \n",
    "# 2. length = distance between each consecutive point added together \n",
    "#     con: not all pts are straight...unless these pts are close enough the curve doesnt matter \n",
    "# 3. build a histogram length vs amount (# of streamlines )\n",
    "\n",
    "\n",
    "\n",
    "# lengths  = {}   \n",
    "# for arr in mapping[(1,2)]:\n",
    "#     len = int(length(arr))\n",
    "#     if (lengths.get(len) != None):\n",
    "#         lengths[len] = lengths.pop(len) + 1\n",
    "#     else: \n",
    "#         lengths[len] = 1\n",
    "\n",
    "\n",
    "\n",
    "# estimate histogram\n",
    "lengths  = []\n",
    "for arr in mapping[(1,2)]:\n",
    "    len = length(arr)\n",
    "    lengths += [len]\n",
    "        \n",
    "highest_bin = int(np.ceil(max(lengths)))\n",
    "lowest_bin = int(np.floor(min(lengths)))\n",
    "plt.hist(lengths, range(lowest_bin, highest_bin))\n",
    "plt.xlabel('length')\n",
    "plt.ylabel('count')\n",
    "plt.show()"
   ]
  },
  {
   "cell_type": "code",
   "execution_count": 9,
   "metadata": {},
   "outputs": [
    {
     "ename": "IndentationError",
     "evalue": "expected an indented block (<ipython-input-9-75f45db3f5b5>, line 9)",
     "output_type": "error",
     "traceback": [
      "\u001b[0;36m  File \u001b[0;32m\"<ipython-input-9-75f45db3f5b5>\"\u001b[0;36m, line \u001b[0;32m9\u001b[0m\n\u001b[0;31m    \u001b[0m\n\u001b[0m    ^\u001b[0m\n\u001b[0;31mIndentationError\u001b[0m\u001b[0;31m:\u001b[0m expected an indented block\n"
     ]
    }
   ],
   "source": [
    "# take in the streamline and the data from another file (MRi)\n",
    "\n",
    "# Then we want to normalize it using ANT or FLIRT or FSL and freesurfer? metric_path\n",
    "# Then along the streamline we want to take the information \n",
    "#     if the data is not there then that means that area of the streamline or brain is not functioning \n",
    "\n",
    "# take in files so that they are readable\n",
    "streamline_file = read(streamline_file)\n",
    "mri_file = read(mri)\n",
    "\n",
    "# normalize files using ANT?\n",
    "normalized_streamlines, normalized_mri = normalize(mri_file, streamline_file)\n",
    "\n",
    "def make_track(normalized_streamline, normalized_mri):\n",
    "#     save data in an array\n",
    "    data = []\n",
    "    \n",
    "#     for each point in the streamline we want to collect the data from the MRI file that \n",
    "#     corresponds to the same point\n",
    "    for point in normalized_streamline:\n",
    "        \n",
    "#         get the data from the normalized mri\n",
    "        temp = point.get_data(normalized_mri)\n",
    "    \n",
    "#         check if the point is valid\n",
    "        if (!temp)\n",
    "#             if it is then add to the array\n",
    "            data += [data]\n",
    "        else: \n",
    "#             if not write corrupted (do we want to have an array of points to show where in the \n",
    "#                                    brain the patient is suceptible to deficiency)\n",
    "            data += ['corrupted']\n",
    "    \n",
    "    return data\n",
    "\n",
    "\n",
    "    \n",
    "    \n",
    "    "
   ]
  },
  {
   "cell_type": "code",
   "execution_count": null,
   "metadata": {},
   "outputs": [],
   "source": []
  }
 ],
 "metadata": {
  "anaconda-cloud": {},
  "kernelspec": {
   "display_name": "Python 2",
   "language": "python",
   "name": "python2"
  },
  "language_info": {
   "codemirror_mode": {
    "name": "ipython",
    "version": 2
   },
   "file_extension": ".py",
   "mimetype": "text/x-python",
   "name": "python",
   "nbconvert_exporter": "python",
   "pygments_lexer": "ipython2",
   "version": "2.7.15"
  }
 },
 "nbformat": 4,
 "nbformat_minor": 1
}
